{
 "cells": [
  {
   "cell_type": "code",
   "execution_count": 5,
   "id": "87c3b211-be52-4c2f-aa25-fe882139fe30",
   "metadata": {},
   "outputs": [],
   "source": [
    "import torch\n",
    "import torch.nn as nn\n",
    "import numpy as np\n",
    "from collections import OrderedDict\n",
    "import math"
   ]
  },
  {
   "cell_type": "code",
   "execution_count": 6,
   "id": "c4cf17db-ef7b-4806-a330-22cb5533382a",
   "metadata": {},
   "outputs": [],
   "source": [
    "class Multi_Layer_Perceptron(nn.Sequential):\n",
    "    def __init__(self, input_dim, intern_dim, output_dim, depth = 2, isBiased = False):\n",
    "        \n",
    "        dict = OrderedDict([(\"input\",nn.Linear(input_dim,intern_dim, bias=isBiased))])\n",
    "        for i in range(depth):\n",
    "            dict.update({str(i) : nn.Linear(intern_dim,intern_dim,bias=isBiased)})\n",
    "        dict.update({\"output\" : nn.Linear(intern_dim,output_dim,bias=isBiased)})\n",
    "\n",
    "        super().__init__(dict)\n",
    "\n",
    "        self.reset_init_weights_biases() # so that we do not use a default initialization\n",
    "\n",
    "    def reset_init_weights_biases(self, norm = None):\n",
    "        for layer in self.children():\n",
    "            if norm == None:\n",
    "                stdv = 1. / math.sqrt(layer.weight.size(1))\n",
    "            else :\n",
    "                stdv = norm\n",
    "            \n",
    "            layer.weight.data.uniform_(-stdv, stdv)\n",
    "            if layer.bias is not None:\n",
    "                layer.biases.data.uniform_(-stdv, stdv)"
   ]
  },
  {
   "cell_type": "code",
   "execution_count": 7,
   "id": "6264e4dd-b9a9-4771-a27c-cecc585a9b09",
   "metadata": {},
   "outputs": [],
   "source": [
    "def train(model, input_data, output_data, lossFct = nn.MSELoss(), optimizer = None, epochs = 20, init_norm = None, save = True, debug = False, savename='model.pt'):\n",
    "\n",
    "    if optimizer is None:\n",
    "        optimizer = torch.optim.SGD(model.parameters())\n",
    "    \n",
    "    if init_norm is not None:\n",
    "        model.reset_init_weights_biases(init_norm)\n",
    "\n",
    "    for i in range(epochs):\n",
    "        y_pred = model(input_data)\n",
    "        loss = lossFct(y_pred, output_data)\n",
    "\n",
    "        if math.isnan(loss.item()):\n",
    "            print(f\"Epoch: {i+1}   Loss: {loss.item()}\")\n",
    "            break\n",
    "            \n",
    "        optimizer.zero_grad()\n",
    "        loss.backward()\n",
    "        optimizer.step()\n",
    "\n",
    "        if debug:\n",
    "            if (i+1)%(epochs/debug) == 0:\n",
    "                print(f\"Epoch: {i+1}   Loss: {loss.item()}\")\n",
    "        \n",
    "        if save:\n",
    "            torch.save(model.state_dict(), DIRPATH+savename)\n",
    "    "
   ]
  },
  {
   "cell_type": "code",
   "execution_count": 4,
   "id": "aa92e277-855c-47e0-beaf-2e794641a3af",
   "metadata": {},
   "outputs": [
    {
     "name": "stdout",
     "output_type": "stream",
     "text": [
      "Solution: [0.02674451 0.03776844]\n",
      "Objective: 1.549e-01\n",
      "Solution non-linear: [0.04593633 0.0343165 ]\n",
      "Objective non-linear: 1.575e-01\n"
     ]
    }
   ],
   "source": [
    "%run main_Sam.py"
   ]
  },
  {
   "cell_type": "code",
   "execution_count": 82,
   "id": "98a97e66-22b6-40ac-b203-9af1c978e756",
   "metadata": {},
   "outputs": [
    {
     "name": "stdout",
     "output_type": "stream",
     "text": [
      "torch.Size([2])\n",
      "torch.Size([10])\n",
      "Epoch: 40000   Loss: 0.30343955755233765\n",
      "Epoch: 40000   Loss: 0.3344198167324066\n",
      "Epoch: 40000   Loss: 0.149404838681221\n",
      "Epoch: 40000   Loss: 0.003884666133671999\n",
      "Epoch: 40000   Loss: 8.127202799634858e-10\n"
     ]
    }
   ],
   "source": [
    "MLP = Multi_Layer_Perceptron(d,n, depth = 1)\n",
    "input = (torch.from_numpy(x).to(torch.float32))\n",
    "print(input.shape)\n",
    "output = (torch.from_numpy(b).to(torch.float32))\n",
    "print(output.shape)\n",
    "\n",
    "train(MLP, input, output, init_norm = None, epochs = 40000, debug = 1)\n",
    "train(MLP, input, output, init_norm = 0, epochs = 40000, debug = 1)\n",
    "train(MLP, input, output, init_norm = 1, epochs = 40000, debug = 1)\n",
    "train(MLP, input, output, init_norm = 2, epochs = 40000, debug = 1)\n",
    "train(MLP, input, output, init_norm = 10, epochs = 40000, debug = 1)\n"
   ]
  },
  {
   "cell_type": "code",
   "execution_count": 81,
   "id": "10aed77b-05dc-4258-a640-58f86743d61f",
   "metadata": {},
   "outputs": [
    {
     "name": "stdout",
     "output_type": "stream",
     "text": [
      "Epoch: 8   Loss: nan\n",
      "Epoch: 4   Loss: nan\n",
      "Epoch: 3   Loss: nan\n"
     ]
    }
   ],
   "source": [
    "train(MLP, input, output, init_norm = 20, epochs = 40000, debug = 1)\n",
    "train(MLP, input, output, init_norm = 50, epochs = 40000, debug = 1)\n",
    "train(MLP, input, output, init_norm = 100, epochs = 40000, debug = 1)"
   ]
  },
  {
   "cell_type": "code",
   "execution_count": 19,
   "id": "e890aa14-1141-485e-93ca-20c8172c5d86",
   "metadata": {},
   "outputs": [
    {
     "name": "stdout",
     "output_type": "stream",
     "text": [
      "torch.Size([100, 20])\n",
      "torch.Size([100, 4])\n",
      "Epoch: 1000   Loss: 8.737030982971191\n",
      "torch.Size([5, 20])\n",
      "torch.Size([5, 5])\n",
      "torch.Size([4, 5])\n",
      "torch.Size([20, 4])\n",
      "torch.Size([100, 20])\n",
      "torch.Size([100, 4])\n",
      "Clean observations\n",
      "Model 1:\n",
      "   - objective: 1.420e+01\n",
      "   - weights norm: 9.72\n",
      "Model 2:\n",
      "   - objective: 1.747e+01\n",
      "   - weights norm: 8.56\n",
      "Epoch: 1000   Loss: 8.925164222717285\n",
      "Noisy observations\n",
      "Model 1:\n",
      "   - objective: 1.475e+01\n",
      "   - weights norm: 10.02\n",
      "Model 2:\n",
      "   - objective: 1.785e+01\n",
      "   - weights norm: 7.76\n"
     ]
    }
   ],
   "source": [
    "%run main_Sam.py"
   ]
  },
  {
   "cell_type": "code",
   "execution_count": 3,
   "id": "9a2bcd8f",
   "metadata": {},
   "outputs": [
    {
     "name": "stdout",
     "output_type": "stream",
     "text": [
      "torch.Size([20, 20])\n",
      "torch.Size([5, 20])\n",
      "torch.Size([5, 20])\n",
      "torch.Size([1, 20])\n",
      "torch.Size([20])\n",
      "Clean observations\n",
      "Model 1:\n",
      "   - objective: 3.469e+00\n",
      "   - weights norm: 5.20\n",
      "Model 2:\n",
      "   - objective: 4.460e+00\n",
      "   - weights norm: 3.71\n"
     ]
    }
   ],
   "source": [
    "with torch.no_grad():    \n",
    "    sol_MLP = torch.eye(d)\n",
    "    print(sol_MLP.shape)\n",
    "    for layer in MLP.children():\n",
    "        sol_MLP = layer.weight@sol_MLP\n",
    "        print(sol_MLP.shape)\n",
    "    sol_MLP.squeeze_()\n",
    "    print(sol_MLP.shape)\n",
    "    print('Clean observations')\n",
    "    compare(input, output, sol_ridge, sol_MLP)"
   ]
  },
  {
   "cell_type": "code",
   "execution_count": null,
   "id": "6ad29443-2ec5-400e-bcae-2c4b7e1d55a3",
   "metadata": {},
   "outputs": [],
   "source": []
  }
 ],
 "metadata": {
  "kernelspec": {
   "display_name": "Python 3 (ipykernel)",
   "language": "python",
   "name": "python3"
  },
  "language_info": {
   "codemirror_mode": {
    "name": "ipython",
    "version": 3
   },
   "file_extension": ".py",
   "mimetype": "text/x-python",
   "name": "python",
   "nbconvert_exporter": "python",
   "pygments_lexer": "ipython3",
   "version": "3.9.19"
  }
 },
 "nbformat": 4,
 "nbformat_minor": 5
}
