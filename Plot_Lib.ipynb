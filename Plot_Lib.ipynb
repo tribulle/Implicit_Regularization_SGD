{
 "cells": [
  {
   "cell_type": "code",
   "execution_count": null,
   "id": "cddd7302-64b1-45d6-872e-42f9e5dfe261",
   "metadata": {},
   "outputs": [],
   "source": [
    "# Model - Ridge_Regularized Solution over t (step of gradient descent)\n",
    "\n",
    "# modelErrorArray = Loss of the model for each step t\n",
    "# ridgeErrorArray = Loss of the ridge solution for each step t\n",
    "\n",
    "def plot_MvsR(modelErrorArray, ridgeErrorArray, title = r'$R(\\theta_t) - R^*$, over step t'):\n",
    "    error = (modelErrorArray - ridgeErrorArray)\n",
    "    fig1,ax1 = plt.subplots(1,1)\n",
    "    ax1.plot(range(error.shape[0]), error, marker='*')\n",
    "    ax1.set_title(title)\n",
    "    ax1.set_xlabel(r'Iteration $t$')\n",
    "    ax1.set_ylabel(r'$R(\\theta_t) - R^*$')\n",
    "    ax1.set_xscale('log')\n",
    "    ax1.set_yscale('linear')\n",
    "    plt.xlim(left=0)\n",
    "    plt.ylim(bottom=0)\n",
    "    plt.grid(color='black', which=\"both\", linestyle='-', linewidth=0.2)\n",
    "    plt.savefig(f'figures/excess_risk_{title}_t{error.shape[0]}')"
   ]
  }
 ],
 "metadata": {
  "kernelspec": {
   "display_name": "Python 3 (ipykernel)",
   "language": "python",
   "name": "python3"
  },
  "language_info": {
   "codemirror_mode": {
    "name": "ipython",
    "version": 3
   },
   "file_extension": ".py",
   "mimetype": "text/x-python",
   "name": "python",
   "nbconvert_exporter": "python",
   "pygments_lexer": "ipython3",
   "version": "3.9.19"
  }
 },
 "nbformat": 4,
 "nbformat_minor": 5
}
