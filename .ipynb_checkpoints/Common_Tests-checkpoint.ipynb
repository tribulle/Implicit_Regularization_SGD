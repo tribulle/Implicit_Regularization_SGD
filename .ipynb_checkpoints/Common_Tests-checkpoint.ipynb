{
 "cells": [
  {
   "cell_type": "code",
   "execution_count": 1,
   "id": "d529a738-1579-41e9-8862-2cbb31360c04",
   "metadata": {},
   "outputs": [],
   "source": [
    "import numpy as np\n",
    "import numbers\n",
    "from collections import OrderedDict\n",
    "import torch\n",
    "import torch.nn as nn\n",
    "import math\n",
    "from tqdm import tqdm"
   ]
  },
  {
   "cell_type": "code",
   "execution_count": 2,
   "id": "c1992e5e-2556-4a60-88f7-5980846fbf08",
   "metadata": {},
   "outputs": [],
   "source": [
    "def Test_Depth_vs_Lamnbda(nb_avg=20, p=100,n=500, intern_dim= 10, epochs = 2000, untilConv = -1, depthArray = np.array([-1,0,1,4,8,10]), LambdaArray = np.logspace(0,2,100)):\n",
    "\n",
    "    errorArray = np.zeros((nb_avg,depthArray.shape[0],2))\n",
    "    modelErrorArray = np.zeros((nb_avg,depthArray.shape[0],epochs))\n",
    "    MvsR_ErrorArray = np.zeros((nb_avg,depthArray.shape[0],LambdaArray.shape[0]))\n",
    "    for f in tqdm(range(nb_avg)):\n",
    "        \n",
    "        A,b = Generate_data(p=p, n=n)\n",
    "        \n",
    "        for i in range(depthArray.shape[0]):\n",
    "            model = MultiLayerPerceptron(input_dim=p,\n",
    "                                         intern_dim=intern_dim,\n",
    "                                         output_dim=1,\n",
    "                                         depth=depthArray[i],\n",
    "                                         isBiased = False)\n",
    "            error,e = train(model, torch.from_numpy(A).to(torch.float32), torch.from_numpy(b).to(torch.float32), untilConv = untilConv, save = False, epochs = epochs)\n",
    "            modelErrorArray[f,i] = error\n",
    "            errorArray[f,i] = [model.depth,error[e]]\n",
    "        \n",
    "        ridgeErrorArray = Ridge_Lambda_Compute(A,b,LambdaArray)\n",
    "        MvsR_ErrorArray[f] = (errorArray[f] - ridgeErrorArray[:,1])**2\n",
    "    \n",
    "    mean_errorArray = np.mean(MvsR_ErrorArray, axis=0)\n",
    "    mean_modelErrorArray = np.mean(modelErrorArray, axis=0)\n",
    "    \n",
    "    #plot_MvsR_overLambda(mean_errorArray, ridgeErrorArray)\n",
    "    plot_MultiGraph(mean_errorArray,LambdaArray,depthArray)\n",
    "    plot_M_overStep(mean_modelErrorArray,depthArray)"
   ]
  },
  {
   "cell_type": "code",
   "execution_count": 3,
   "id": "47f0aaca-f5c0-4d79-b5ce-7f78d500341f",
   "metadata": {},
   "outputs": [
    {
     "name": "stderr",
     "output_type": "stream",
     "text": [
      "  0%|          | 0/2 [00:12<?, ?it/s]\n"
     ]
    },
    {
     "ename": "ValueError",
     "evalue": "operands could not be broadcast together with shapes (8,2) (1000,) ",
     "output_type": "error",
     "traceback": [
      "\u001b[1;31m---------------------------------------------------------------------------\u001b[0m",
      "\u001b[1;31mValueError\u001b[0m                                Traceback (most recent call last)",
      "Cell \u001b[1;32mIn[3], line 4\u001b[0m\n\u001b[0;32m      1\u001b[0m get_ipython()\u001b[38;5;241m.\u001b[39mrun_line_magic(\u001b[38;5;124m'\u001b[39m\u001b[38;5;124mrun\u001b[39m\u001b[38;5;124m'\u001b[39m, \u001b[38;5;124m'\u001b[39m\u001b[38;5;124mutils.py\u001b[39m\u001b[38;5;124m'\u001b[39m)\n\u001b[0;32m      2\u001b[0m get_ipython()\u001b[38;5;241m.\u001b[39mrun_line_magic(\u001b[38;5;124m'\u001b[39m\u001b[38;5;124mrun\u001b[39m\u001b[38;5;124m'\u001b[39m, \u001b[38;5;124m'\u001b[39m\u001b[38;5;124mPlot_lib.ipynb\u001b[39m\u001b[38;5;124m'\u001b[39m)\n\u001b[1;32m----> 4\u001b[0m \u001b[43mTest_Depth_vs_Lamnbda\u001b[49m\u001b[43m(\u001b[49m\u001b[43mnb_avg\u001b[49m\u001b[38;5;241;43m=\u001b[39;49m\u001b[38;5;241;43m2\u001b[39;49m\u001b[43m,\u001b[49m\u001b[43m \u001b[49m\u001b[43mepochs\u001b[49m\u001b[43m \u001b[49m\u001b[38;5;241;43m=\u001b[39;49m\u001b[43m \u001b[49m\u001b[38;5;241;43m1000\u001b[39;49m\u001b[43m,\u001b[49m\u001b[43m \u001b[49m\u001b[43mn\u001b[49m\u001b[43m \u001b[49m\u001b[38;5;241;43m=\u001b[39;49m\u001b[38;5;241;43m500\u001b[39;49m\u001b[43m,\u001b[49m\u001b[43mdepthArray\u001b[49m\u001b[43m \u001b[49m\u001b[38;5;241;43m=\u001b[39;49m\u001b[43m \u001b[49m\u001b[43mnp\u001b[49m\u001b[38;5;241;43m.\u001b[39;49m\u001b[43marray\u001b[49m\u001b[43m(\u001b[49m\u001b[43m[\u001b[49m\u001b[38;5;241;43m-\u001b[39;49m\u001b[38;5;241;43m1\u001b[39;49m\u001b[43m,\u001b[49m\u001b[38;5;241;43m0\u001b[39;49m\u001b[43m,\u001b[49m\u001b[38;5;241;43m1\u001b[39;49m\u001b[43m,\u001b[49m\u001b[38;5;241;43m4\u001b[39;49m\u001b[43m,\u001b[49m\u001b[38;5;241;43m5\u001b[39;49m\u001b[43m,\u001b[49m\u001b[38;5;241;43m6\u001b[39;49m\u001b[43m,\u001b[49m\u001b[38;5;241;43m7\u001b[39;49m\u001b[43m,\u001b[49m\u001b[38;5;241;43m8\u001b[39;49m\u001b[43m]\u001b[49m\u001b[43m)\u001b[49m\u001b[43m,\u001b[49m\u001b[43m \u001b[49m\u001b[43mLambdaArray\u001b[49m\u001b[43m \u001b[49m\u001b[38;5;241;43m=\u001b[39;49m\u001b[43m \u001b[49m\u001b[43mnp\u001b[49m\u001b[38;5;241;43m.\u001b[39;49m\u001b[43mlogspace\u001b[49m\u001b[43m(\u001b[49m\u001b[38;5;241;43m-\u001b[39;49m\u001b[38;5;241;43m4\u001b[39;49m\u001b[43m,\u001b[49m\u001b[38;5;241;43m4\u001b[39;49m\u001b[43m,\u001b[49m\u001b[38;5;241;43m1000\u001b[39;49m\u001b[43m)\u001b[49m\u001b[43m)\u001b[49m\n",
      "Cell \u001b[1;32mIn[2], line 21\u001b[0m, in \u001b[0;36mTest_Depth_vs_Lamnbda\u001b[1;34m(nb_avg, p, n, intern_dim, epochs, untilConv, depthArray, LambdaArray)\u001b[0m\n\u001b[0;32m     18\u001b[0m         errorArray[f,i] \u001b[38;5;241m=\u001b[39m [model\u001b[38;5;241m.\u001b[39mdepth,error[e]]\n\u001b[0;32m     20\u001b[0m     ridgeErrorArray \u001b[38;5;241m=\u001b[39m Ridge_Lambda_Compute(A,b,LambdaArray)\n\u001b[1;32m---> 21\u001b[0m     MvsR_ErrorArray[f] \u001b[38;5;241m=\u001b[39m (\u001b[43merrorArray\u001b[49m\u001b[43m[\u001b[49m\u001b[43mf\u001b[49m\u001b[43m]\u001b[49m\u001b[43m \u001b[49m\u001b[38;5;241;43m-\u001b[39;49m\u001b[43m \u001b[49m\u001b[43mridgeErrorArray\u001b[49m\u001b[43m[\u001b[49m\u001b[43m:\u001b[49m\u001b[43m,\u001b[49m\u001b[38;5;241;43m1\u001b[39;49m\u001b[43m]\u001b[49m)\u001b[38;5;241m*\u001b[39m\u001b[38;5;241m*\u001b[39m\u001b[38;5;241m2\u001b[39m\n\u001b[0;32m     23\u001b[0m mean_errorArray \u001b[38;5;241m=\u001b[39m np\u001b[38;5;241m.\u001b[39mmean(MvsR_ErrorArray, axis\u001b[38;5;241m=\u001b[39m\u001b[38;5;241m0\u001b[39m)\n\u001b[0;32m     24\u001b[0m mean_modelErrorArray \u001b[38;5;241m=\u001b[39m np\u001b[38;5;241m.\u001b[39mmean(modelErrorArray, axis\u001b[38;5;241m=\u001b[39m\u001b[38;5;241m0\u001b[39m)\n",
      "\u001b[1;31mValueError\u001b[0m: operands could not be broadcast together with shapes (8,2) (1000,) "
     ]
    }
   ],
   "source": [
    "%run utils.py\n",
    "%run Plot_lib.ipynb\n",
    "\n",
    "Test_Depth_vs_Lamnbda(nb_avg=2, epochs = 1000, n =500,depthArray = np.array([-1,0,1,4,5,6,7,8]), LambdaArray = np.logspace(-4,4,1000))"
   ]
  },
  {
   "cell_type": "code",
   "execution_count": null,
   "id": "6378d3da-9301-49f4-88fe-fe6a0fdc6bbf",
   "metadata": {},
   "outputs": [],
   "source": []
  }
 ],
 "metadata": {
  "kernelspec": {
   "display_name": "Python 3 (ipykernel)",
   "language": "python",
   "name": "python3"
  },
  "language_info": {
   "codemirror_mode": {
    "name": "ipython",
    "version": 3
   },
   "file_extension": ".py",
   "mimetype": "text/x-python",
   "name": "python",
   "nbconvert_exporter": "python",
   "pygments_lexer": "ipython3",
   "version": "3.9.19"
  }
 },
 "nbformat": 4,
 "nbformat_minor": 5
}
