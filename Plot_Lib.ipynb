{
 "cells": [
  {
   "cell_type": "code",
   "execution_count": 1,
   "id": "0cbe44ac-43e6-413b-b254-ef6fd03bf37a",
   "metadata": {},
   "outputs": [],
   "source": [
    "import numpy as np\n",
    "import matplotlib.pyplot as plt"
   ]
  },
  {
   "cell_type": "code",
   "execution_count": 2,
   "id": "cddd7302-64b1-45d6-872e-42f9e5dfe261",
   "metadata": {},
   "outputs": [],
   "source": [
    "# Model - Ridge_Regularized Solution over t (step of gradient descent)\n",
    "\n",
    "# modelErrorArray = Loss of the model for each step t\n",
    "# ridgeErrorArray = Loss of the ridge solution for each step t\n",
    "\n",
    "def plot_MvsR_overT(modelErrorArray, ridgeErrorArray, title = \"R_theta_t - R_star, over t iterations\"):\n",
    "    error = (modelErrorArray - ridgeErrorArray)**2\n",
    "    fig1,ax1 = plt.subplots(1,1)\n",
    "    ax1.plot(range(error.shape[0]), error, marker='*')\n",
    "    ax1.set_title(title)\n",
    "    ax1.set_xlabel(r'Iteration $t$')\n",
    "    ax1.set_ylabel(r'$R(\\theta_t) - R^*$')\n",
    "    ax1.set_xscale('log')\n",
    "    ax1.set_yscale('linear')\n",
    "    plt.xlim(left=1)\n",
    "    plt.grid(color='black', which=\"both\", linestyle='-', linewidth=0.2)\n",
    "    plt.savefig(f'figures/excess_risk_{title}_t{error.shape[0]}')"
   ]
  },
  {
   "cell_type": "code",
   "execution_count": 3,
   "id": "74eb6226-9f44-41e0-8be8-4207e00e9b1b",
   "metadata": {},
   "outputs": [],
   "source": [
    "# Model - Ridge_Regularized Solution over Lambda (Lambda -> 0)\n",
    "\n",
    "# modelError = Loss of the model (a scalar)\n",
    "# ridgeErrorArray = Loss of the ridge solution for each Lambda (np.array(n,2)) Lamnda in [:,0] Error in [:,1]\n",
    "\n",
    "def plot_MvsR_Square_overLambda(modelErrorArray, ridgeErrorArray, title = \"(R_theta - R_lambda)_Square\"):\n",
    "    fig1,ax1 = plt.subplots(1,1)\n",
    "    for model in modelErrorArray[:]:\n",
    "        modelError = model[1]\n",
    "        modelName = model[0]\n",
    "        error = (modelError - ridgeErrorArray[:,1])**2\n",
    "        ax1.plot(ridgeErrorArray[:,0], error, label = modelName , marker='*')\n",
    "    ax1.set_title(title)\n",
    "    ax1.set_xlabel(r'$\\lambda$')\n",
    "    ax1.set_ylabel(r'$R^\\theta - R^\\lambda$')\n",
    "    ax1.set_xscale('log')\n",
    "    ax1.set_yscale('log')\n",
    "    plt.grid(color='black', which=\"both\", linestyle='-', linewidth=0.2)\n",
    "    plt.legend()\n",
    "    plt.savefig(f'figures/excess_risk_{str(title)}_Lambda{str(modelErrorArray.shape[0])}')"
   ]
  },
  {
   "cell_type": "code",
   "execution_count": 1,
   "id": "23f122cd-9a67-4868-8001-a97f610679ec",
   "metadata": {},
   "outputs": [],
   "source": [
    "def plot_M_overStep(modelErrorArray,modelName, title = \"R_theta\"):\n",
    "    fig1,ax1 = plt.subplots(1,1)\n",
    "    for i in range(modelErrorArray.shape[0]):\n",
    "        modelError = modelErrorArray[i]\n",
    "        name = str(modelName[i])\n",
    "        ax1.plot(range(modelError.shape[0]), modelError, label = name , marker='*')\n",
    "    ax1.set_title(title)\n",
    "    ax1.set_xlabel(r'$t$')\n",
    "    ax1.set_ylabel(r'$R^\\theta$')\n",
    "    ax1.set_xscale('log')\n",
    "    ax1.set_yscale('log')\n",
    "    plt.xlim(left=1)\n",
    "    plt.ylim(top=10)\n",
    "    plt.grid(color='black', which=\"both\", linestyle='-', linewidth=0.2)\n",
    "    plt.legend()\n",
    "    plt.savefig(f'figures/excess_risk_{str(title)}_Lambda{str(modelErrorArray.shape[0])}')"
   ]
  },
  {
   "cell_type": "code",
   "execution_count": null,
   "id": "f8782235-895d-4ab6-874e-5bbfcea6e1f7",
   "metadata": {},
   "outputs": [],
   "source": [
    "def plot_MvsR_overLambda(modelErrorArray, ridgeErrorArray, title = \"R_lambda - R_theta\"):\n",
    "    fig1,ax1 = plt.subplots(1,1)\n",
    "    for model in modelErrorArray[:]:\n",
    "        modelError = model[1]\n",
    "        modelName = model[0]\n",
    "        error = ridgeErrorArray[:,1] - modelError\n",
    "        ax1.plot(ridgeErrorArray[:,0], error, label = modelName , marker='*')\n",
    "    ax1.set_title(title)\n",
    "    ax1.set_xlabel(r'$\\lambda$')\n",
    "    ax1.set_ylabel(r'$R^\\theta - R^\\lambda$')\n",
    "    ax1.set_xscale('log')\n",
    "    ax1.set_yscale('log')\n",
    "    plt.grid(color='black', which=\"both\", linestyle='-', linewidth=0.2)\n",
    "    plt.legend()\n",
    "    plt.savefig(f'figures/excess_risk_{str(title)}_Lambda{str(modelErrorArray.shape[0])}')"
   ]
  },
  {
   "cell_type": "code",
   "execution_count": 4,
   "id": "0de61205-be60-40ae-ab12-7ba39b831a4a",
   "metadata": {},
   "outputs": [],
   "source": [
    "# Model - Ridge_Regularized Solution over Lambda (Lambda -> 0)\n",
    "\n",
    "# modelError = Loss of the model (a scalar)\n",
    "# ridgeErrorArray = Loss of the ridge solution for each Lambda (np.array(n,2)) Lamnda in [:,0] Error in [:,1]\n",
    "\n",
    "def plot_MultiGraph(modelErrorArray,X,modelName, title = \"\"):\n",
    "    fig1,ax1 = plt.subplots(1,1)\n",
    "    for l in range(modelErrorArray.shape[0]):\n",
    "        ax1.plot(X, modelErrorArray[l], label = modelName[l] , marker='*')\n",
    "    ax1.set_title(title)\n",
    "    ax1.set_xlabel(r'$\\lambda$')\n",
    "    ax1.set_ylabel(r'$R^\\theta - R^\\lambda$')\n",
    "    ax1.set_xscale('log')\n",
    "    ax1.set_yscale('log')\n",
    "    plt.grid(color='black', which=\"both\", linestyle='-', linewidth=0.2)\n",
    "    plt.legend()\n",
    "    plt.savefig(f'figures/excess_risk_{str(title)}_Lambda{str(modelErrorArray.shape[0])}')"
   ]
  },
  {
   "cell_type": "code",
   "execution_count": null,
   "id": "3ea7f90a-7b1f-481c-a495-2526f740943c",
   "metadata": {},
   "outputs": [],
   "source": []
  }
 ],
 "metadata": {
  "kernelspec": {
   "display_name": "Python 3 (ipykernel)",
   "language": "python",
   "name": "python3"
  },
  "language_info": {
   "codemirror_mode": {
    "name": "ipython",
    "version": 3
   },
   "file_extension": ".py",
   "mimetype": "text/x-python",
   "name": "python",
   "nbconvert_exporter": "python",
   "pygments_lexer": "ipython3",
   "version": "3.9.19"
  }
 },
 "nbformat": 4,
 "nbformat_minor": 5
}
