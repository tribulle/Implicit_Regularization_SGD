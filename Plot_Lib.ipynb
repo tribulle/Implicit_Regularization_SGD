{
 "cells": [
  {
   "cell_type": "code",
   "execution_count": 1,
   "id": "0cbe44ac-43e6-413b-b254-ef6fd03bf37a",
   "metadata": {},
   "outputs": [],
   "source": [
    "import numpy as np\n",
    "import matplotlib.pyplot as plt"
   ]
  },
  {
   "cell_type": "code",
   "execution_count": 19,
   "id": "cddd7302-64b1-45d6-872e-42f9e5dfe261",
   "metadata": {},
   "outputs": [],
   "source": [
    "# Model - Ridge_Regularized Solution over t (step of gradient descent)\n",
    "\n",
    "# modelErrorArray = Loss of the model for each step t\n",
    "# ridgeErrorArray = Loss of the ridge solution for each step t\n",
    "\n",
    "def plot_MvsR_overT(modelErrorArray, ridgeErrorArray, title = \"R_theta_t - R_star, over t iterations\"):\n",
    "    error = (modelErrorArray - ridgeErrorArray)**2\n",
    "    fig1,ax1 = plt.subplots(1,1)\n",
    "    ax1.plot(range(error.shape[0]), error, marker='*')\n",
    "    ax1.set_title(title)\n",
    "    ax1.set_xlabel(r'Iteration $t$')\n",
    "    ax1.set_ylabel(r'$R(\\theta_t) - R^*$')\n",
    "    ax1.set_xscale('log')\n",
    "    ax1.set_yscale('linear')\n",
    "    plt.xlim(left=1)\n",
    "    plt.grid(color='black', which=\"both\", linestyle='-', linewidth=0.2)\n",
    "    plt.savefig(f'figures/excess_risk_{title}_t{error.shape[0]}')"
   ]
  },
  {
   "cell_type": "code",
   "execution_count": 20,
   "id": "74eb6226-9f44-41e0-8be8-4207e00e9b1b",
   "metadata": {},
   "outputs": [],
   "source": [
    "# Model - Ridge_Regularized Solution over Lambda (Lambda -> 0)\n",
    "\n",
    "# modelError = Loss of the model (a scalar)\n",
    "# ridgeErrorArray = Loss of the ridge solution for each Lambda (np.array(n,2)) Lamnda in [:,0] Error in [:,1]\n",
    "\n",
    "def plot_MvsR_overLambda(modelError, ridgeErrorArray, title = \"R_theta - R_lambda\"):\n",
    "    error = (modelError - ridgeErrorArray[:,1])**2\n",
    "    fig1,ax1 = plt.subplots(1,1)\n",
    "    ax1.plot(ridgeErrorArray[:,0], error, marker='*')\n",
    "    ax1.set_title(title)\n",
    "    ax1.set_xlabel(r'$\\lambda$')\n",
    "    ax1.set_ylabel(r'$R^\\theta - R^\\lambda$')\n",
    "    ax1.set_xscale('log')\n",
    "    ax1.set_yscale('log')\n",
    "    plt.xlim(left=1)\n",
    "    plt.grid(color='black', which=\"both\", linestyle='-', linewidth=0.2)\n",
    "    plt.savefig(f'figures/excess_risk_{str(title)}_Lambda{error.shape[0]}')"
   ]
  },
  {
   "cell_type": "code",
   "execution_count": null,
   "id": "23f122cd-9a67-4868-8001-a97f610679ec",
   "metadata": {},
   "outputs": [],
   "source": []
  }
 ],
 "metadata": {
  "kernelspec": {
   "display_name": "Python 3 (ipykernel)",
   "language": "python",
   "name": "python3"
  },
  "language_info": {
   "codemirror_mode": {
    "name": "ipython",
    "version": 3
   },
   "file_extension": ".py",
   "mimetype": "text/x-python",
   "name": "python",
   "nbconvert_exporter": "python",
   "pygments_lexer": "ipython3",
   "version": "3.9.19"
  }
 },
 "nbformat": 4,
 "nbformat_minor": 5
}
